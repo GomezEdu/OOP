{
 "cells": [
  {
   "cell_type": "markdown",
   "metadata": {},
   "source": [
    "# Ejercicio 4 de OOP"
   ]
  },
  {
   "cell_type": "markdown",
   "metadata": {},
   "source": [
    "<img src=\"./Diagramas_clases/04_overrinding.png\" alt=\"Ex1\" width=\"500\">"
   ]
  },
  {
   "cell_type": "markdown",
   "metadata": {},
   "source": [
    "## Clase Animal\n",
    "- *str name*: Atributo de instancia. Nombre del animal.\n",
    "- *void eat()*: Imprime 'Yummy yummy! estoy comiendo.'.\n",
    "- *void make_noise()*: Imprime '{self.name} hace Grrrr!.'."
   ]
  },
  {
   "cell_type": "code",
   "execution_count": 36,
   "metadata": {},
   "outputs": [],
   "source": [
    "class Cat(Animal):\n",
    "    def make_noise(self):\n",
    "        print(f'{self.name} hace Rrrrrr!.')\n",
    "    def meow(self):\n",
    "        print('Soy un gato y hago meow!')"
   ]
  },
  {
   "cell_type": "code",
   "execution_count": 37,
   "metadata": {},
   "outputs": [
    {
     "name": "stdout",
     "output_type": "stream",
     "text": [
      "Michu hace Rrrrrr!.\n",
      "Soy un gato y hago meow!\n",
      "Yummy yummy! estoy comiendo\n"
     ]
    }
   ],
   "source": [
    "Michu = Cat('Michu')\n",
    "Michu.make_noise()\n",
    "Michu.meow()\n",
    "Michu.eat()"
   ]
  },
  {
   "cell_type": "markdown",
   "metadata": {},
   "source": [
    "## Clase Cat\n",
    "- *void make_noise()*: Imprime '{self.name} hace Rrrrrr!.'.\n",
    "- *void meow()*: Imprime 'Soy un gato y hago Meow!.'."
   ]
  },
  {
   "cell_type": "code",
   "execution_count": 38,
   "metadata": {},
   "outputs": [],
   "source": [
    "class Cat(Animal):\n",
    "    def make_noise(self):\n",
    "        print(f'{sel.name} Hace Grrrr')\n",
    "    def meow(self):\n",
    "        print('Soy un gato y hago meaw!')    \n",
    "        "
   ]
  },
  {
   "cell_type": "code",
   "execution_count": null,
   "metadata": {},
   "outputs": [],
   "source": []
  },
  {
   "cell_type": "markdown",
   "metadata": {},
   "source": [
    "## Clase Dog\n",
    "- *void bark()*: Imprime 'Soy un perro y hago woof woof!'."
   ]
  },
  {
   "cell_type": "code",
   "execution_count": 39,
   "metadata": {},
   "outputs": [],
   "source": [
    "class Dog(Animal):\n",
    "    def bark(self):\n",
    "        print(f'Soy {self.name} y hago woof!')"
   ]
  },
  {
   "cell_type": "code",
   "execution_count": 40,
   "metadata": {},
   "outputs": [
    {
     "name": "stdout",
     "output_type": "stream",
     "text": [
      "Soy Firu y hago woof!\n",
      "Yummy yummy! estoy comiendo\n",
      "Firu hace Grrrr!.\n"
     ]
    }
   ],
   "source": [
    "Firu = Dog('Firu')\n",
    "Firu.bark()\n",
    "Firu.eat()\n",
    "Firu.make_noise()"
   ]
  }
 ],
 "metadata": {
  "kernelspec": {
   "display_name": "Python 3",
   "language": "python",
   "name": "python3"
  },
  "language_info": {
   "codemirror_mode": {
    "name": "ipython",
    "version": 3
   },
   "file_extension": ".py",
   "mimetype": "text/x-python",
   "name": "python",
   "nbconvert_exporter": "python",
   "pygments_lexer": "ipython3",
   "version": "3.12.4"
  }
 },
 "nbformat": 4,
 "nbformat_minor": 2
}
